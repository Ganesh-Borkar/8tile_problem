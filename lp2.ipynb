{
  "nbformat": 4,
  "nbformat_minor": 0,
  "metadata": {
    "colab": {
      "private_outputs": true,
      "provenance": [],
      "authorship_tag": "ABX9TyOdMTralPbBEPXDHtCB3DoV",
      "include_colab_link": true
    },
    "kernelspec": {
      "name": "python3",
      "display_name": "Python 3"
    },
    "language_info": {
      "name": "python"
    }
  },
  "cells": [
    {
      "cell_type": "markdown",
      "metadata": {
        "id": "view-in-github",
        "colab_type": "text"
      },
      "source": [
        "<a href=\"https://colab.research.google.com/github/Ganesh-Borkar/8tile_problem/blob/main/lp2.ipynb\" target=\"_parent\"><img src=\"https://colab.research.google.com/assets/colab-badge.svg\" alt=\"Open In Colab\"/></a>"
      ]
    },
    {
      "cell_type": "code",
      "source": [
        "def print_in_format(matrix):\n",
        "    for i in range(9):\n",
        "        if i%3==0 and i>0:\n",
        "            print(\" \")\n",
        "        print(str(matrix[i]) + \" \", end = \"\")\n",
        "\n",
        "def count(s):         #count missplaced states\n",
        "    c = 0\n",
        "    ideal = [1, 2, 3,\n",
        "             4, 5, 6,\n",
        "             7, 8, 0]\n",
        "    \n",
        "    for i in range(9):\n",
        "        if s[i]!=0 and s[i]!=ideal[i]:\n",
        "            c+=1\n",
        "    return c\n",
        "\n",
        "def move(ar, p, st):\n",
        "    rh = 9999\n",
        "    store_st = st.copy()\n",
        "    \n",
        "    for i in range(len(ar)):\n",
        "        \n",
        "        dupl_st = st.copy()\n",
        "        \n",
        "        tmp = dupl_st[p]\n",
        "        dupl_st[p] = dupl_st[arr[i]]\n",
        "        dupl_st[arr[i]] = tmp\n",
        "        \n",
        "        trh = count(dupl_st)\n",
        "        \n",
        "        if trh<rh:\n",
        "            rh = trh\n",
        "            store_st = dupl_st.copy()\n",
        "    \n",
        "    #print(rh, store_st)\n",
        "    \n",
        "    return store_st, rh\n",
        "    \n",
        "    \n",
        "# state = [1, 2, 3,\n",
        "#          0, 5, 6,\n",
        "#          4, 7, 8]\n",
        "\n",
        "state=[1,0,2,\n",
        "       5,6,3,\n",
        "       4,7,8]\n",
        "\n",
        "h = count(state)\n",
        "Level = 1\n",
        "\n",
        "print(\"\\n------ Level \"+str(Level)+\" ------\")\n",
        "print_in_format(state)\n",
        "print(\"\\nHeuristic Value(Misplaced) : \"+ str(h))\n",
        "\n",
        "\n",
        "while h>0:\n",
        "    pos = int(state.index(0))\n",
        "    Level += 1\n",
        "    if pos==0:\n",
        "        arr = [1, 3]\n",
        "        state, h = move(arr, pos, state)\n",
        "    elif pos==1:\n",
        "        arr = [0, 2, 4]\n",
        "        state, h = move(arr, pos, state)\n",
        "    elif pos==2:\n",
        "        arr = [1, 5]\n",
        "        state, h = move(arr, pos, state)\n",
        "    elif pos==3:\n",
        "        arr = [0, 4, 6]\n",
        "        state, h = move(arr, pos, state)\n",
        "    elif pos==4:\n",
        "        arr = [1, 3, 5, 7]\n",
        "        state, h = move(arr, pos, state)\n",
        "    elif pos==5:\n",
        "        arr = [2, 4, 8]\n",
        "        state, h = move(arr, pos, state)\n",
        "    elif pos==6:\n",
        "        arr = [3, 7]\n",
        "        state, h = move(arr, pos, state)\n",
        "    elif pos==7:\n",
        "        arr = [4, 6, 8]\n",
        "        state, h = move(arr, pos, state)\n",
        "    elif pos==8:\n",
        "        arr = [5, 6]\n",
        "        state, h = move(arr, pos, state)\n",
        "        \n",
        "    print(\"\\n------ Level \"+str(Level)+\" ------\")\n",
        "    print_in_format(state)\n",
        "    print(\"\\nHeuristic Value(Misplaced) : \"+str(h))\n",
        "    \n",
        "\n"
      ],
      "metadata": {
        "id": "XwxRFQPHVEMY"
      },
      "execution_count": null,
      "outputs": []
    },
    {
      "cell_type": "code",
      "source": [],
      "metadata": {
        "id": "v-DeEFZThpWA"
      },
      "execution_count": null,
      "outputs": []
    },
    {
      "cell_type": "code",
      "source": [],
      "metadata": {
        "id": "xAJOw75ihqLq"
      },
      "execution_count": null,
      "outputs": []
    },
    {
      "cell_type": "code",
      "source": [
        "def counte(s):\n",
        "  c=0\n",
        "\n",
        "  ideal=[1, 2, 3,\n",
        "         4, 5, 6,\n",
        "         7, 8, 0]\n",
        "  \n",
        "  for i in range (9):\n",
        "    if s != 0 and s[i] != ideal[i]:\n",
        "      c +=1\n",
        "  return c\n",
        "\n",
        "s=[6,4,3,\n",
        "   7,8,1,\n",
        "   5,2,0]\n",
        "\n",
        "h=count(s)\n",
        "print(h)\n",
        "\n",
        "\n"
      ],
      "metadata": {
        "id": "-4wFvEvaVES1"
      },
      "execution_count": null,
      "outputs": []
    },
    {
      "cell_type": "code",
      "source": [
        "def movee(ar,p,st):\n",
        "  rh=99\n",
        "  store_st=st.copy()\n",
        "\n",
        "  for i in range (len(ar)):\n",
        "\n",
        "    dupl_st=store_st.copy()\n",
        "    tmp=dupl_st[p]\n",
        "    dupl_st[p]=dupl_st[ar[i]]\n",
        "    dupl_st[ar[i]]=tmp\n",
        "\n",
        "    trh=counte(dupl_st)\n",
        "\n",
        "    if trh<rh:\n",
        "        rh=trh\n",
        "        store_st=dupl_st\n",
        "\n",
        "  return rh,store_st\n"
      ],
      "metadata": {
        "id": "hm_Gt3m9VEdd"
      },
      "execution_count": null,
      "outputs": []
    },
    {
      "cell_type": "code",
      "source": [
        "arr=[5,7]\n",
        "p=8\n",
        "movee(arr,p,s)"
      ],
      "metadata": {
        "id": "xIcLa-AnVEud"
      },
      "execution_count": null,
      "outputs": []
    },
    {
      "cell_type": "code",
      "source": [
        "def print_in_formate(maatrix):\n",
        "  for i in range (9):\n",
        "    if i%3== 0 and i>0:\n",
        "      print(\"\")\n",
        "    print(str(maatrix[i])+\" \",end=\"\")\n",
        "\n",
        "mat=[1, 2, 3,\n",
        "     4, 5, 6,\n",
        "     7, 8, 0]\n",
        "\n",
        "print_in_formate(mat)"
      ],
      "metadata": {
        "id": "BXiuwGRwVE1t"
      },
      "execution_count": null,
      "outputs": []
    },
    {
      "cell_type": "code",
      "source": [
        "def count(s):\n",
        "  c=0\n",
        "  ideal=[1,2,3,\n",
        "         4,5,6,\n",
        "         7,8,0]\n",
        "  for i in range (9):\n",
        "    if s!=0 and s[i]!=ideal[i]:\n",
        "      c+=1\n",
        "  return c"
      ],
      "metadata": {
        "id": "WLHNZPAOUqNf"
      },
      "execution_count": null,
      "outputs": []
    },
    {
      "cell_type": "code",
      "source": [
        "def move(ar,p,st):\n",
        "  rh=988\n",
        "  store_st=st.copy()\n",
        "\n",
        "  for i in range (len(st)):\n",
        "    dupl_st=store_st.copy()\n",
        "\n",
        "    tmp=dupl_st[p]\n",
        "    dupl_st[p]=dupl_st[ar[i]]\n",
        "    dupl_st[ar[i]]=tmp\n",
        "\n",
        "    trh=count(dupl_st)\n",
        "\n",
        "    if rh<trh:\n",
        "      rh=trh\n",
        "      store_st=dupl_st\n",
        "  return rh, store_st\n"
      ],
      "metadata": {
        "id": "kuxi6JiiUqZM"
      },
      "execution_count": null,
      "outputs": []
    },
    {
      "cell_type": "code",
      "source": [
        "def pif(m):\n",
        "  for i in range (9):\n",
        "    if i%3==0 and i>0:\n",
        "      print(\" \")\n",
        "    print(str(m[i])+\" \",end=\"\")\n",
        "\n"
      ],
      "metadata": {
        "id": "EZn12266UqcE"
      },
      "execution_count": null,
      "outputs": []
    },
    {
      "cell_type": "code",
      "source": [
        "Level=0\n",
        "\n",
        "while h>0:\n",
        "  pos=int(state.index(0))\n",
        "  level+=1\n",
        "\n",
        "  if pos==0:\n",
        "    arr=[1,3]\n",
        "    state,h=move(arr,pos,state)\n",
        "\n",
        "  elif pos==1:\n",
        "    arr=[1,3]\n",
        "    state,h=move(arr,pos,state)\n",
        "\n",
        "  elif pos==2:\n",
        "    arr=[0,2,4]\n",
        "    state,h=move(arr,pos,state)\n",
        "\n",
        "  elif pos==3:\n",
        "    arr=[1,5]\n",
        "    state,h=move(arr,pos,state)\n",
        "  \n",
        "  elif pos==4:\n",
        "    arr=[0,4,6]\n",
        "    state,h=move(arr,pos,state)\n",
        "  \n",
        "  elif pos==5:\n",
        "    arr=[1,3,5,7]\n",
        "    state,h=move(arr,pos,state)\n",
        "  \n",
        "  elif pos==6:\n",
        "    arr=[2,4,8]\n",
        "    state,h=move(arr,pos,state)\n",
        "\n",
        "  elif pos==7:\n",
        "    arr=[4,6,8]\n",
        "    state,h=move(arr,pos,state)\n",
        "\n",
        "  elif pos==8:\n",
        "    arr=[5,7]\n",
        "    state,h=move(arr,pos,state)\n",
        "  \n",
        " \n",
        "\n",
        "\n",
        "\n"
      ],
      "metadata": {
        "id": "3X2ERrriaSL0"
      },
      "execution_count": null,
      "outputs": []
    },
    {
      "cell_type": "code",
      "source": [
        "def selection_sort(nums):\n",
        "  for i in range(len(nums)):\n",
        "    min_idx = i\n",
        "    for j in range(i+1, len(nums)):\n",
        "      if nums[j] < nums[min_idx]:\n",
        "        min_idx = j\n",
        "    \n",
        "    nums[i], nums[min_idx] = nums[min_idx], nums[i]\n",
        "    print(nums)   \n",
        "  return nums\n",
        "  \n",
        "# Get user input for the list of numbers to be sorted\n",
        "nums = input(\"Enter the list of numbers to be sorted, separated by spaces: \")\n",
        "nums = list(map(int, nums.split()))\n",
        "\n",
        "# Sort the list using the selection sort algorithm and print the final sorted list\n",
        "sorted_nums = selection_sort(nums)\n",
        "print(\"The sorted list is:\", sorted_nums)\n",
        "\n",
        "\n"
      ],
      "metadata": {
        "id": "itRZPDLlhr8l"
      },
      "execution_count": null,
      "outputs": []
    },
    {
      "cell_type": "code",
      "source": [],
      "metadata": {
        "id": "cFU60iiBhsIb"
      },
      "execution_count": null,
      "outputs": []
    }
  ]
}